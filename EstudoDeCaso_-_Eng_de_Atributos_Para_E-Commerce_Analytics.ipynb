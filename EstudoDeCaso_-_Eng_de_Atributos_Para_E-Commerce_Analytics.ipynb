{
 "cells": [
  {
   "cell_type": "markdown",
   "id": "0cd31e93",
   "metadata": {},
   "source": [
    "# <font color='blue'><u>Estudo de Caso</u></font>\n",
    "\n",
    "## <font color='blue'>Engenharia de Atributos Para E-Commerce Analytics</font>"
   ]
  },
  {
   "cell_type": "markdown",
   "id": "fc08a6d9",
   "metadata": {},
   "source": [
    "#### Obs: Estaremos utilizando a mesma base de dados para trabalhar em um grande projeto de Ciência de Dados distribuído em 3 capítulos:\n",
    "\n",
    "- Capítulo 4 (Análise Exploratória de Dados) \n",
    "- Capítulo 5 (Engenharia de Atributos)     -> <strong>Atual</strong>\n",
    "- Capítulo 6 (Pré-Processamento de Dados)"
   ]
  },
  {
   "cell_type": "markdown",
   "id": "873bcb87",
   "metadata": {},
   "source": [
    "## Contexto (Cap. 5)\n",
    "\n",
    "#### Este Estudo de Caso é uma continuação do trabalho iniciado no capítulo anterior. Agora aplicaremos Engenharia de Atributos.\n",
    "\n",
    "#### O objetivo é analisar os dados por diferentes perspectivas e criar novas variáveis que ajudem a compreender o comportamento da variável alvo, em nosso caso se um produto será enviado com atraso ou não.\n",
    "\n",
    "#### Todo  o  Estudo  de  Caso  é  no  contexto  de  um  problema  de  negócio  em  E-Commerce Analytics.<br><br><br>"
   ]
  },
  {
   "cell_type": "markdown",
   "id": "42e4c39e",
   "metadata": {},
   "source": [
    "## Definição do Problema\n",
    "\n",
    "Uma empresa internacional de comércio eletrônico (E-commerce) que vende produtos eletrônicos deseja descobrir informações importantes de seu banco de dados de clientes.\n",
    "\n",
    "Os produtos ficam armazenados em um armazém na sede da empresa. Após concluir a compra no web site da empresa, o cliente recebe o produto em casa, em qualquer parte do mundo.  Os  produtos  são  enviados  de  Navio,  Avião  ou  Caminhão,  dependendo  da  região  de entrega.\n",
    "\n",
    "Em cada compra o cliente pode receber um desconto dependendo do peso do produto comprado. Cada cliente pode fazer chamadas ao suporte da empresa no caso de dúvidas ou problemas e após receber o produto o cliente pode deixar uma avaliação sobre a experiência de compra. O único dado pessoal sobre o cliente que está disponível é o gênero.\n",
    "\n",
    "Nosso trabalho neste <u>Estudo de Caso</u> é explorar os dados, compreender como estão organizados, detectar eventuais problemas e analisar os dados por diferentes perspectivas.\n",
    "\n",
    "Trabalharemos com dados fictícios que representam dados reais de uma empresa de E-Commerce. Os dados estão disponíveis na pasta \"dados\". <br><br><br>"
   ]
  },
  {
   "cell_type": "markdown",
   "id": "0948d308",
   "metadata": {},
   "source": [
    "## Dicionário de Dados<br><br>\n",
    "\n",
    "<table border=\"2\">\n",
    "  <tr>\n",
    "    <th>Nome da Coluna</th>\n",
    "    <th>Tipo de Dado</th>\n",
    "    <th>Descrição</th>\n",
    "  </tr>\n",
    "  <tr>\n",
    "    <td>ID</td>\n",
    "    <td>Int</td>\n",
    "    <td>ID exclusivo de cada transação.</td>\n",
    "  </tr>\n",
    "  <tr>\n",
    "    <td>corredor_armazem</td>\n",
    "    <td>Character(1)</td>\n",
    "    <td>Letra do corredor do armazém onde o produto está armazenado.</td>\n",
    "  </tr>\n",
    "  <tr>\n",
    "    <td>modo_envio</td>\n",
    "    <td>String</td>\n",
    "    <td>Modo de envio do produto.</td>\n",
    "  </tr>\n",
    "  <tr>\n",
    "    <td>numero_chamadas_cliente</td>\n",
    "    <td>Int</td>\n",
    "    <td>Número de vezes que o cliente acionou o suporte da empresa.</td>\n",
    "  </tr>\n",
    "  <tr>\n",
    "    <td>avaliacao_cliente</td>\n",
    "    <td>Int</td>\n",
    "    <td>Avaliação do cliente sobre a experiência de compra.</td>\n",
    "  </tr>\n",
    "  <tr>\n",
    "    <td>custo_produto</td>\n",
    "    <td>Int</td>\n",
    "    <td>Custo do produto.</td>\n",
    "  </tr>\n",
    "  <tr>\n",
    "    <td>compras_anteriores</td>\n",
    "    <td>Int</td>\n",
    "    <td>Número de vezes que o cliente fez uma compra na empresa.</td>\n",
    "  </tr>\n",
    "  <tr>\n",
    "    <td>prioridade_produto</td>\n",
    "    <td>String</td>\n",
    "    <td>Prioridade de entrega do produto.</td>\n",
    "  </tr>\n",
    "  <tr>\n",
    "    <td>genero</td>\n",
    "    <td>Character(1)</td>\n",
    "    <td>Gênero do cliente (F ou M).</td>\n",
    "  </tr>\n",
    "  <tr>\n",
    "    <td>desconto</td>\n",
    "    <td>Int</td>\n",
    "    <td>Desconto concedido na compra do produto.</td>\n",
    "  </tr>\n",
    "  <tr>\n",
    "    <td>peso_gramas</td>\n",
    "    <td>Int</td>\n",
    "    <td>Peso do produto.</td>\n",
    "  </tr>\n",
    "  <tr>\n",
    "    <td>entregue_no_prazo</td>\n",
    "    <td>Character(1)</td>\n",
    "    <td>Se o produto foi entregue no prazo, sendo 0 (não foi entregue no prazo) ou 1 (foi entregue no prazo).</td>\n",
    "  </tr>\n",
    "</table><br><br><br><br>"
   ]
  },
  {
   "cell_type": "code",
   "execution_count": 1,
   "id": "46fec9a2",
   "metadata": {},
   "outputs": [],
   "source": [
    "# Imports\n",
    "import scipy\n",
    "import numpy as np\n",
    "import pandas as pd\n",
    "import matplotlib.pyplot as plt\n",
    "import seaborn as sns\n",
    "from scipy import stats"
   ]
  },
  {
   "cell_type": "code",
   "execution_count": 2,
   "id": "c8722c65",
   "metadata": {},
   "outputs": [
    {
     "name": "stdout",
     "output_type": "stream",
     "text": [
      "Author: Data Science Academy\n",
      "\n",
      "seaborn   : 0.13.2\n",
      "matplotlib: 3.8.3\n",
      "scipy     : 1.12.0\n",
      "numpy     : 1.26.4\n",
      "pandas    : 2.2.1\n",
      "\n"
     ]
    }
   ],
   "source": [
    "# Versões dos pacotes usados neste jupyter notebook\n",
    "%reload_ext watermark\n",
    "%watermark -a \"Data Science Academy\" --iversions"
   ]
  },
  {
   "cell_type": "markdown",
   "id": "332c8b4b",
   "metadata": {},
   "source": [
    "# Carregando o Dataset"
   ]
  }
 ],
 "metadata": {
  "kernelspec": {
   "display_name": "Python 3 (ipykernel)",
   "language": "python",
   "name": "python3"
  },
  "language_info": {
   "codemirror_mode": {
    "name": "ipython",
    "version": 3
   },
   "file_extension": ".py",
   "mimetype": "text/x-python",
   "name": "python",
   "nbconvert_exporter": "python",
   "pygments_lexer": "ipython3",
   "version": "3.9.7"
  }
 },
 "nbformat": 4,
 "nbformat_minor": 5
}
