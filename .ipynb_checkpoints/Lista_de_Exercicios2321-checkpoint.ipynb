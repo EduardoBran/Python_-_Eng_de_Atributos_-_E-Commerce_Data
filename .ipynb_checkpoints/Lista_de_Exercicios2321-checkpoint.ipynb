{
 "cells": [
  {
   "cell_type": "markdown",
   "id": "38fc31ac",
   "metadata": {},
   "source": [
    "# <font color='blue'>Data Science Academy</font>\n",
    "# <font color='blue'>Big Data Real-Time Analytics com Python e Spark</font>\n",
    "\n",
    "# <font color='blue'>Capítulo 4</font>"
   ]
  },
  {
   "cell_type": "markdown",
   "id": "8e433bb5",
   "metadata": {},
   "source": [
    "# <br>Lista de Exercícios\n",
    "\n",
    "* Resolva as questões a seguir e consulte a documentação Python se necessário!\n",
    "* O dataset contém registros de corridas de táxi.<br><br>"
   ]
  },
  {
   "cell_type": "code",
   "execution_count": 1,
   "id": "9bcb12db",
   "metadata": {},
   "outputs": [],
   "source": [
    "# Imports\n",
    "import numpy as np\n",
    "import pandas as pd\n",
    "import matplotlib.pyplot as plt\n",
    "import seaborn as sns\n",
    "import datetime as dt\n",
    "%matplotlib inline"
   ]
  },
  {
   "cell_type": "markdown",
   "id": "f33a7b31",
   "metadata": {},
   "source": [
    "### <br><br>Carregando Dataset"
   ]
  },
  {
   "cell_type": "code",
   "execution_count": 2,
   "id": "be157332",
   "metadata": {},
   "outputs": [],
   "source": [
    "# O dataset contendo registros de corridas de táxi\n",
    "df = pd.read_csv('dados/dataframe.csv')"
   ]
  },
  {
   "cell_type": "code",
   "execution_count": 3,
   "id": "7987d089",
   "metadata": {},
   "outputs": [
    {
     "data": {
      "text/html": [
       "<div>\n",
       "<style scoped>\n",
       "    .dataframe tbody tr th:only-of-type {\n",
       "        vertical-align: middle;\n",
       "    }\n",
       "\n",
       "    .dataframe tbody tr th {\n",
       "        vertical-align: top;\n",
       "    }\n",
       "\n",
       "    .dataframe thead th {\n",
       "        text-align: right;\n",
       "    }\n",
       "</style>\n",
       "<table border=\"1\" class=\"dataframe\">\n",
       "  <thead>\n",
       "    <tr style=\"text-align: right;\">\n",
       "      <th></th>\n",
       "      <th>Data</th>\n",
       "      <th>Distancia</th>\n",
       "      <th>Tempo</th>\n",
       "      <th>Segundos</th>\n",
       "      <th>Minutos</th>\n",
       "      <th>Min_Por_Km</th>\n",
       "    </tr>\n",
       "  </thead>\n",
       "  <tbody>\n",
       "    <tr>\n",
       "      <th>0</th>\n",
       "      <td>2015-08-02</td>\n",
       "      <td>1.70</td>\n",
       "      <td>NaN</td>\n",
       "      <td>NaN</td>\n",
       "      <td>NaN</td>\n",
       "      <td>NaN</td>\n",
       "    </tr>\n",
       "    <tr>\n",
       "      <th>1</th>\n",
       "      <td>2015-08-03</td>\n",
       "      <td>1.40</td>\n",
       "      <td>NaN</td>\n",
       "      <td>NaN</td>\n",
       "      <td>NaN</td>\n",
       "      <td>NaN</td>\n",
       "    </tr>\n",
       "    <tr>\n",
       "      <th>2</th>\n",
       "      <td>2015-08-04</td>\n",
       "      <td>2.10</td>\n",
       "      <td>NaN</td>\n",
       "      <td>NaN</td>\n",
       "      <td>NaN</td>\n",
       "      <td>NaN</td>\n",
       "    </tr>\n",
       "    <tr>\n",
       "      <th>3</th>\n",
       "      <td>2015-08-06</td>\n",
       "      <td>2.38</td>\n",
       "      <td>NaN</td>\n",
       "      <td>NaN</td>\n",
       "      <td>NaN</td>\n",
       "      <td>NaN</td>\n",
       "    </tr>\n",
       "    <tr>\n",
       "      <th>4</th>\n",
       "      <td>2015-08-07</td>\n",
       "      <td>2.30</td>\n",
       "      <td>NaN</td>\n",
       "      <td>NaN</td>\n",
       "      <td>NaN</td>\n",
       "      <td>NaN</td>\n",
       "    </tr>\n",
       "    <tr>\n",
       "      <th>...</th>\n",
       "      <td>...</td>\n",
       "      <td>...</td>\n",
       "      <td>...</td>\n",
       "      <td>...</td>\n",
       "      <td>...</td>\n",
       "      <td>...</td>\n",
       "    </tr>\n",
       "    <tr>\n",
       "      <th>76</th>\n",
       "      <td>2015-12-24</td>\n",
       "      <td>3.05</td>\n",
       "      <td>0:25:08</td>\n",
       "      <td>1508.0</td>\n",
       "      <td>25.133333</td>\n",
       "      <td>8.240437</td>\n",
       "    </tr>\n",
       "    <tr>\n",
       "      <th>77</th>\n",
       "      <td>2015-12-25</td>\n",
       "      <td>14.80</td>\n",
       "      <td>2:20:00</td>\n",
       "      <td>8400.0</td>\n",
       "      <td>140.000000</td>\n",
       "      <td>9.459459</td>\n",
       "    </tr>\n",
       "    <tr>\n",
       "      <th>78</th>\n",
       "      <td>2015-12-26</td>\n",
       "      <td>5.20</td>\n",
       "      <td>NaN</td>\n",
       "      <td>NaN</td>\n",
       "      <td>NaN</td>\n",
       "      <td>NaN</td>\n",
       "    </tr>\n",
       "    <tr>\n",
       "      <th>79</th>\n",
       "      <td>2015-12-30</td>\n",
       "      <td>3.15</td>\n",
       "      <td>0:22:10</td>\n",
       "      <td>1330.0</td>\n",
       "      <td>22.166667</td>\n",
       "      <td>7.037037</td>\n",
       "    </tr>\n",
       "    <tr>\n",
       "      <th>80</th>\n",
       "      <td>2016-01-01</td>\n",
       "      <td>26.20</td>\n",
       "      <td>4:20:43</td>\n",
       "      <td>15643.0</td>\n",
       "      <td>260.716667</td>\n",
       "      <td>9.951018</td>\n",
       "    </tr>\n",
       "  </tbody>\n",
       "</table>\n",
       "<p>81 rows × 6 columns</p>\n",
       "</div>"
      ],
      "text/plain": [
       "          Data  Distancia    Tempo  Segundos     Minutos  Min_Por_Km\n",
       "0   2015-08-02       1.70      NaN       NaN         NaN         NaN\n",
       "1   2015-08-03       1.40      NaN       NaN         NaN         NaN\n",
       "2   2015-08-04       2.10      NaN       NaN         NaN         NaN\n",
       "3   2015-08-06       2.38      NaN       NaN         NaN         NaN\n",
       "4   2015-08-07       2.30      NaN       NaN         NaN         NaN\n",
       "..         ...        ...      ...       ...         ...         ...\n",
       "76  2015-12-24       3.05  0:25:08    1508.0   25.133333    8.240437\n",
       "77  2015-12-25      14.80  2:20:00    8400.0  140.000000    9.459459\n",
       "78  2015-12-26       5.20      NaN       NaN         NaN         NaN\n",
       "79  2015-12-30       3.15  0:22:10    1330.0   22.166667    7.037037\n",
       "80  2016-01-01      26.20  4:20:43   15643.0  260.716667    9.951018\n",
       "\n",
       "[81 rows x 6 columns]"
      ]
     },
     "execution_count": 3,
     "metadata": {},
     "output_type": "execute_result"
    }
   ],
   "source": [
    "# Visualizando\n",
    "df"
   ]
  },
  {
   "cell_type": "code",
   "execution_count": 4,
   "id": "02f37752",
   "metadata": {},
   "outputs": [
    {
     "name": "stdout",
     "output_type": "stream",
     "text": [
      "<class 'pandas.core.frame.DataFrame'>\n",
      "RangeIndex: 81 entries, 0 to 80\n",
      "Data columns (total 6 columns):\n",
      " #   Column      Non-Null Count  Dtype  \n",
      "---  ------      --------------  -----  \n",
      " 0   Data        81 non-null     object \n",
      " 1   Distancia   81 non-null     float64\n",
      " 2   Tempo       52 non-null     object \n",
      " 3   Segundos    52 non-null     float64\n",
      " 4   Minutos     52 non-null     float64\n",
      " 5   Min_Por_Km  52 non-null     float64\n",
      "dtypes: float64(4), object(2)\n",
      "memory usage: 3.9+ KB\n"
     ]
    }
   ],
   "source": [
    "# Coluna Data carregado como object\n",
    "df.info()"
   ]
  },
  {
   "cell_type": "code",
   "execution_count": 5,
   "id": "e6247d27",
   "metadata": {},
   "outputs": [
    {
     "data": {
      "text/html": [
       "<div>\n",
       "<style scoped>\n",
       "    .dataframe tbody tr th:only-of-type {\n",
       "        vertical-align: middle;\n",
       "    }\n",
       "\n",
       "    .dataframe tbody tr th {\n",
       "        vertical-align: top;\n",
       "    }\n",
       "\n",
       "    .dataframe thead th {\n",
       "        text-align: right;\n",
       "    }\n",
       "</style>\n",
       "<table border=\"1\" class=\"dataframe\">\n",
       "  <thead>\n",
       "    <tr style=\"text-align: right;\">\n",
       "      <th></th>\n",
       "      <th>Data</th>\n",
       "      <th>Distancia</th>\n",
       "      <th>Tempo</th>\n",
       "      <th>Segundos</th>\n",
       "      <th>Minutos</th>\n",
       "      <th>Min_Por_Km</th>\n",
       "    </tr>\n",
       "  </thead>\n",
       "  <tbody>\n",
       "    <tr>\n",
       "      <th>0</th>\n",
       "      <td>2015-08-02</td>\n",
       "      <td>1.70</td>\n",
       "      <td>NaN</td>\n",
       "      <td>NaN</td>\n",
       "      <td>NaN</td>\n",
       "      <td>NaN</td>\n",
       "    </tr>\n",
       "    <tr>\n",
       "      <th>1</th>\n",
       "      <td>2015-08-03</td>\n",
       "      <td>1.40</td>\n",
       "      <td>NaN</td>\n",
       "      <td>NaN</td>\n",
       "      <td>NaN</td>\n",
       "      <td>NaN</td>\n",
       "    </tr>\n",
       "    <tr>\n",
       "      <th>2</th>\n",
       "      <td>2015-08-04</td>\n",
       "      <td>2.10</td>\n",
       "      <td>NaN</td>\n",
       "      <td>NaN</td>\n",
       "      <td>NaN</td>\n",
       "      <td>NaN</td>\n",
       "    </tr>\n",
       "    <tr>\n",
       "      <th>3</th>\n",
       "      <td>2015-08-06</td>\n",
       "      <td>2.38</td>\n",
       "      <td>NaN</td>\n",
       "      <td>NaN</td>\n",
       "      <td>NaN</td>\n",
       "      <td>NaN</td>\n",
       "    </tr>\n",
       "    <tr>\n",
       "      <th>4</th>\n",
       "      <td>2015-08-07</td>\n",
       "      <td>2.30</td>\n",
       "      <td>NaN</td>\n",
       "      <td>NaN</td>\n",
       "      <td>NaN</td>\n",
       "      <td>NaN</td>\n",
       "    </tr>\n",
       "    <tr>\n",
       "      <th>...</th>\n",
       "      <td>...</td>\n",
       "      <td>...</td>\n",
       "      <td>...</td>\n",
       "      <td>...</td>\n",
       "      <td>...</td>\n",
       "      <td>...</td>\n",
       "    </tr>\n",
       "    <tr>\n",
       "      <th>76</th>\n",
       "      <td>2015-12-24</td>\n",
       "      <td>3.05</td>\n",
       "      <td>0:25:08</td>\n",
       "      <td>1508.0</td>\n",
       "      <td>25.133333</td>\n",
       "      <td>8.240437</td>\n",
       "    </tr>\n",
       "    <tr>\n",
       "      <th>77</th>\n",
       "      <td>2015-12-25</td>\n",
       "      <td>14.80</td>\n",
       "      <td>2:20:00</td>\n",
       "      <td>8400.0</td>\n",
       "      <td>140.000000</td>\n",
       "      <td>9.459459</td>\n",
       "    </tr>\n",
       "    <tr>\n",
       "      <th>78</th>\n",
       "      <td>2015-12-26</td>\n",
       "      <td>5.20</td>\n",
       "      <td>NaN</td>\n",
       "      <td>NaN</td>\n",
       "      <td>NaN</td>\n",
       "      <td>NaN</td>\n",
       "    </tr>\n",
       "    <tr>\n",
       "      <th>79</th>\n",
       "      <td>2015-12-30</td>\n",
       "      <td>3.15</td>\n",
       "      <td>0:22:10</td>\n",
       "      <td>1330.0</td>\n",
       "      <td>22.166667</td>\n",
       "      <td>7.037037</td>\n",
       "    </tr>\n",
       "    <tr>\n",
       "      <th>80</th>\n",
       "      <td>2016-01-01</td>\n",
       "      <td>26.20</td>\n",
       "      <td>4:20:43</td>\n",
       "      <td>15643.0</td>\n",
       "      <td>260.716667</td>\n",
       "      <td>9.951018</td>\n",
       "    </tr>\n",
       "  </tbody>\n",
       "</table>\n",
       "<p>81 rows × 6 columns</p>\n",
       "</div>"
      ],
      "text/plain": [
       "         Data  Distancia    Tempo  Segundos     Minutos  Min_Por_Km\n",
       "0  2015-08-02       1.70      NaN       NaN         NaN         NaN\n",
       "1  2015-08-03       1.40      NaN       NaN         NaN         NaN\n",
       "2  2015-08-04       2.10      NaN       NaN         NaN         NaN\n",
       "3  2015-08-06       2.38      NaN       NaN         NaN         NaN\n",
       "4  2015-08-07       2.30      NaN       NaN         NaN         NaN\n",
       "..        ...        ...      ...       ...         ...         ...\n",
       "76 2015-12-24       3.05  0:25:08    1508.0   25.133333    8.240437\n",
       "77 2015-12-25      14.80  2:20:00    8400.0  140.000000    9.459459\n",
       "78 2015-12-26       5.20      NaN       NaN         NaN         NaN\n",
       "79 2015-12-30       3.15  0:22:10    1330.0   22.166667    7.037037\n",
       "80 2016-01-01      26.20  4:20:43   15643.0  260.716667    9.951018\n",
       "\n",
       "[81 rows x 6 columns]"
      ]
     },
     "execution_count": 5,
     "metadata": {},
     "output_type": "execute_result"
    }
   ],
   "source": [
    "# O dataset contém registros de corridas de táxi\n",
    "df = pd.read_csv('dados/dataframe.csv', parse_dates = ['Data'])\n",
    "df"
   ]
  },
  {
   "cell_type": "code",
   "execution_count": 6,
   "id": "329b403e",
   "metadata": {},
   "outputs": [
    {
     "name": "stdout",
     "output_type": "stream",
     "text": [
      "<class 'pandas.core.frame.DataFrame'>\n",
      "RangeIndex: 81 entries, 0 to 80\n",
      "Data columns (total 6 columns):\n",
      " #   Column      Non-Null Count  Dtype         \n",
      "---  ------      --------------  -----         \n",
      " 0   Data        81 non-null     datetime64[ns]\n",
      " 1   Distancia   81 non-null     float64       \n",
      " 2   Tempo       52 non-null     object        \n",
      " 3   Segundos    52 non-null     float64       \n",
      " 4   Minutos     52 non-null     float64       \n",
      " 5   Min_Por_Km  52 non-null     float64       \n",
      "dtypes: datetime64[ns](1), float64(4), object(1)\n",
      "memory usage: 3.9+ KB\n"
     ]
    }
   ],
   "source": [
    "# Ao adicionar o parâmetro parse_dates a coluna Data é convertida para tipo Date\n",
    "df.info()"
   ]
  },
  {
   "cell_type": "markdown",
   "id": "39221848",
   "metadata": {},
   "source": [
    "# <br><u>Perguntas</u><br>"
   ]
  },
  {
   "cell_type": "markdown",
   "id": "f497175a",
   "metadata": {},
   "source": [
    "### 1 - Qual o valor máximo da coluna Minutos?"
   ]
  },
  {
   "cell_type": "code",
   "execution_count": 7,
   "id": "add05b21",
   "metadata": {},
   "outputs": [
    {
     "data": {
      "text/plain": [
       "260.71666666666664"
      ]
     },
     "execution_count": 7,
     "metadata": {},
     "output_type": "execute_result"
    }
   ],
   "source": [
    "valor_max_col_Minutos = df['Minutos'].max()\n",
    "valor_max_col_Minutos"
   ]
  },
  {
   "cell_type": "markdown",
   "id": "7d14885b",
   "metadata": {},
   "source": [
    "### 2 - Qual o valor mínimo de distância acima de 2.0?"
   ]
  },
  {
   "cell_type": "code",
   "execution_count": 8,
   "id": "66f4427f",
   "metadata": {},
   "outputs": [
    {
     "data": {
      "text/plain": [
       "2.01"
      ]
     },
     "execution_count": 8,
     "metadata": {},
     "output_type": "execute_result"
    }
   ],
   "source": [
    "df[df['Distancia'] > 2.0]['Distancia'].min()"
   ]
  },
  {
   "cell_type": "markdown",
   "id": "4fb4e131",
   "metadata": {},
   "source": [
    "### 3 - Crie um plot com a frequência acumulada da coluna Distancia."
   ]
  },
  {
   "cell_type": "code",
   "execution_count": 9,
   "id": "00c35256",
   "metadata": {},
   "outputs": [
    {
     "data": {
      "text/plain": [
       "Distancia\n",
       "1.37     14\n",
       "3.05     11\n",
       "1.50      7\n",
       "1.34      3\n",
       "0.90      2\n",
       "5.63      2\n",
       "2.00      2\n",
       "3.00      2\n",
       "0.65      2\n",
       "5.30      2\n",
       "2.50      2\n",
       "3.10      2\n",
       "14.80     2\n",
       "2.93      1\n",
       "2.21      1\n",
       "2.01      1\n",
       "6.50      1\n",
       "12.00     1\n",
       "4.00      1\n",
       "5.20      1\n",
       "1.20      1\n",
       "1.26      1\n",
       "3.15      1\n",
       "1.00      1\n",
       "1.70      1\n",
       "4.08      1\n",
       "1.87      1\n",
       "4.63      1\n",
       "4.03      1\n",
       "1.40      1\n",
       "5.00      1\n",
       "1.78      1\n",
       "2.35      1\n",
       "1.42      1\n",
       "1.67      1\n",
       "3.36      1\n",
       "3.40      1\n",
       "2.30      1\n",
       "2.38      1\n",
       "2.10      1\n",
       "26.20     1\n",
       "Name: count, dtype: int64"
      ]
     },
     "execution_count": 9,
     "metadata": {},
     "output_type": "execute_result"
    }
   ],
   "source": [
    "# Obtendo Valores Únicos da coluna Distancia\n",
    "freq = df['Distancia'].value_counts()\n",
    "freq"
   ]
  },
  {
   "cell_type": "code",
   "execution_count": 10,
   "id": "177338d6",
   "metadata": {},
   "outputs": [
    {
     "data": {
      "text/plain": [
       "Distancia\n",
       "0.65      2\n",
       "0.90      4\n",
       "1.00      5\n",
       "1.20      6\n",
       "1.26      7\n",
       "1.34     10\n",
       "1.37     24\n",
       "1.40     25\n",
       "1.42     26\n",
       "1.50     33\n",
       "1.67     34\n",
       "1.70     35\n",
       "1.78     36\n",
       "1.87     37\n",
       "2.00     39\n",
       "2.01     40\n",
       "2.10     41\n",
       "2.21     42\n",
       "2.30     43\n",
       "2.35     44\n",
       "2.38     45\n",
       "2.50     47\n",
       "2.93     48\n",
       "3.00     50\n",
       "3.05     61\n",
       "3.10     63\n",
       "3.15     64\n",
       "3.36     65\n",
       "3.40     66\n",
       "4.00     67\n",
       "4.03     68\n",
       "4.08     69\n",
       "4.63     70\n",
       "5.00     71\n",
       "5.20     72\n",
       "5.30     74\n",
       "5.63     76\n",
       "6.50     77\n",
       "12.00    78\n",
       "14.80    80\n",
       "26.20    81\n",
       "Name: count, dtype: int64"
      ]
     },
     "execution_count": 10,
     "metadata": {},
     "output_type": "execute_result"
    }
   ],
   "source": [
    "# Obtendo Frequência Acumulada dos Valores Únicos da coluna Distancia\n",
    "freq_acumulada = df['Distancia'].value_counts().sort_index().cumsum()\n",
    "freq_acumulada"
   ]
  },
  {
   "cell_type": "code",
   "execution_count": 11,
   "id": "fb6643df",
   "metadata": {},
   "outputs": [
    {
     "data": {
      "text/plain": [
       "Distancia\n",
       "0.65      2\n",
       "0.90      4\n",
       "1.00      5\n",
       "1.20      6\n",
       "1.26      7\n",
       "1.34     10\n",
       "1.37     24\n",
       "1.40     25\n",
       "1.42     26\n",
       "1.50     33\n",
       "1.67     34\n",
       "1.70     35\n",
       "1.78     36\n",
       "1.87     37\n",
       "2.00     39\n",
       "2.01     40\n",
       "2.10     41\n",
       "2.21     42\n",
       "2.30     43\n",
       "2.35     44\n",
       "2.38     45\n",
       "2.50     47\n",
       "2.93     48\n",
       "3.00     50\n",
       "3.05     61\n",
       "3.10     63\n",
       "3.15     64\n",
       "3.36     65\n",
       "3.40     66\n",
       "4.00     67\n",
       "4.03     68\n",
       "4.08     69\n",
       "4.63     70\n",
       "5.00     71\n",
       "5.20     72\n",
       "5.30     74\n",
       "5.63     76\n",
       "6.50     77\n",
       "12.00    78\n",
       "14.80    80\n",
       "26.20    81\n",
       "Name: count, dtype: int64"
      ]
     },
     "execution_count": 11,
     "metadata": {},
     "output_type": "execute_result"
    }
   ],
   "source": [
    "freq_acumulada2 = freq.sort_index().cumsum()\n",
    "freq_acumulada2"
   ]
  },
  {
   "cell_type": "code",
   "execution_count": 12,
   "id": "544f55c3",
   "metadata": {},
   "outputs": [
    {
     "data": {
      "text/plain": [
       "Distancia\n",
       "0.65     0.024691\n",
       "0.90     0.049383\n",
       "1.00     0.061728\n",
       "1.20     0.074074\n",
       "1.26     0.086420\n",
       "1.34     0.123457\n",
       "1.37     0.296296\n",
       "1.40     0.308642\n",
       "1.42     0.320988\n",
       "1.50     0.407407\n",
       "1.67     0.419753\n",
       "1.70     0.432099\n",
       "1.78     0.444444\n",
       "1.87     0.456790\n",
       "2.00     0.481481\n",
       "2.01     0.493827\n",
       "2.10     0.506173\n",
       "2.21     0.518519\n",
       "2.30     0.530864\n",
       "2.35     0.543210\n",
       "2.38     0.555556\n",
       "2.50     0.580247\n",
       "2.93     0.592593\n",
       "3.00     0.617284\n",
       "3.05     0.753086\n",
       "3.10     0.777778\n",
       "3.15     0.790123\n",
       "3.36     0.802469\n",
       "3.40     0.814815\n",
       "4.00     0.827160\n",
       "4.03     0.839506\n",
       "4.08     0.851852\n",
       "4.63     0.864198\n",
       "5.00     0.876543\n",
       "5.20     0.888889\n",
       "5.30     0.913580\n",
       "5.63     0.938272\n",
       "6.50     0.950617\n",
       "12.00    0.962963\n",
       "14.80    0.987654\n",
       "26.20    1.000000\n",
       "Name: proportion, dtype: float64"
      ]
     },
     "execution_count": 12,
     "metadata": {},
     "output_type": "execute_result"
    }
   ],
   "source": [
    "# Obtendo Frequência Acumulada dos Valores Únicos da coluna Distancia (com os dados normalizados)\n",
    "freq_acumulada_nor = df['Distancia'].value_counts(normalize=True).sort_index().cumsum()\n",
    "freq_acumulada_nor"
   ]
  },
  {
   "cell_type": "markdown",
   "id": "364826c7",
   "metadata": {},
   "source": [
    "#### Criando Gráfico de Linha"
   ]
  },
  {
   "cell_type": "code",
   "execution_count": 13,
   "id": "5686888c",
   "metadata": {},
   "outputs": [
    {
     "data": {
      "image/png": "[encoded data removed]",
      "text/plain": [
       "<Figure size 432x288 with 1 Axes>"
      ]
     },
     "metadata": {
      "needs_background": "light"
     },
     "output_type": "display_data"
    }
   ],
   "source": [
    "# Plot\n",
    "\n",
    "# Obtendo os valores únicos da coluna Distancia\n",
    "distancias = freq_acumulada_nor.index\n",
    "# Obtendo a frequência acumulada normalizada\n",
    "freq_acumulada_normalizada = freq_acumulada_nor.values\n",
    "\n",
    "# Criando o gráfico de linha\n",
    "plt.plot(distancias, freq_acumulada_normalizada, marker='o', linestyle='-');\n",
    "\n",
    "# Adicionando rótulos aos eixos\n",
    "plt.xlabel('Distância');\n",
    "plt.ylabel('Frequência Acumulada Normalizada');\n",
    "\n",
    "# Adicionando título ao gráfico\n",
    "plt.title('Frequência Acumulada Normalizada da Distância');"
   ]
  },
  {
   "cell_type": "markdown",
   "id": "9cadf1f1",
   "metadata": {},
   "source": [
    "## <br><u><font color='red'>GABARITO</font></u>"
   ]
  },
  {
   "cell_type": "code",
   "execution_count": 40,
   "id": "69d341c8",
   "metadata": {},
   "outputs": [
    {
     "data": {
      "image/png": "[encoded data removed]",
      "text/plain": [
       "<Figure size 432x288 with 1 Axes>"
      ]
     },
     "metadata": {
      "needs_background": "light"
     },
     "output_type": "display_data"
    }
   ],
   "source": [
    "# Gabarito (a frequencia já foi calculada junto com a criação do gráfico)\n",
    "df['Distancia'].hist(bins = 30, cumulative = True);"
   ]
  },
  {
   "cell_type": "markdown",
   "id": "9cd54455",
   "metadata": {},
   "source": [
    "### 4 - Qual o dia da semana no índice de posição zero?"
   ]
  },
  {
   "cell_type": "code",
   "execution_count": 14,
   "id": "93ffb55f",
   "metadata": {},
   "outputs": [
    {
     "data": {
      "text/html": [
       "<div>\n",
       "<style scoped>\n",
       "    .dataframe tbody tr th:only-of-type {\n",
       "        vertical-align: middle;\n",
       "    }\n",
       "\n",
       "    .dataframe tbody tr th {\n",
       "        vertical-align: top;\n",
       "    }\n",
       "\n",
       "    .dataframe thead th {\n",
       "        text-align: right;\n",
       "    }\n",
       "</style>\n",
       "<table border=\"1\" class=\"dataframe\">\n",
       "  <thead>\n",
       "    <tr style=\"text-align: right;\">\n",
       "      <th></th>\n",
       "      <th>Data</th>\n",
       "      <th>Distancia</th>\n",
       "      <th>Tempo</th>\n",
       "      <th>Segundos</th>\n",
       "      <th>Minutos</th>\n",
       "      <th>Min_Por_Km</th>\n",
       "    </tr>\n",
       "  </thead>\n",
       "  <tbody>\n",
       "    <tr>\n",
       "      <th>0</th>\n",
       "      <td>2015-08-02</td>\n",
       "      <td>1.70</td>\n",
       "      <td>NaN</td>\n",
       "      <td>NaN</td>\n",
       "      <td>NaN</td>\n",
       "      <td>NaN</td>\n",
       "    </tr>\n",
       "    <tr>\n",
       "      <th>1</th>\n",
       "      <td>2015-08-03</td>\n",
       "      <td>1.40</td>\n",
       "      <td>NaN</td>\n",
       "      <td>NaN</td>\n",
       "      <td>NaN</td>\n",
       "      <td>NaN</td>\n",
       "    </tr>\n",
       "    <tr>\n",
       "      <th>2</th>\n",
       "      <td>2015-08-04</td>\n",
       "      <td>2.10</td>\n",
       "      <td>NaN</td>\n",
       "      <td>NaN</td>\n",
       "      <td>NaN</td>\n",
       "      <td>NaN</td>\n",
       "    </tr>\n",
       "    <tr>\n",
       "      <th>3</th>\n",
       "      <td>2015-08-06</td>\n",
       "      <td>2.38</td>\n",
       "      <td>NaN</td>\n",
       "      <td>NaN</td>\n",
       "      <td>NaN</td>\n",
       "      <td>NaN</td>\n",
       "    </tr>\n",
       "    <tr>\n",
       "      <th>4</th>\n",
       "      <td>2015-08-07</td>\n",
       "      <td>2.30</td>\n",
       "      <td>NaN</td>\n",
       "      <td>NaN</td>\n",
       "      <td>NaN</td>\n",
       "      <td>NaN</td>\n",
       "    </tr>\n",
       "  </tbody>\n",
       "</table>\n",
       "</div>"
      ],
      "text/plain": [
       "        Data  Distancia Tempo  Segundos  Minutos  Min_Por_Km\n",
       "0 2015-08-02       1.70   NaN       NaN      NaN         NaN\n",
       "1 2015-08-03       1.40   NaN       NaN      NaN         NaN\n",
       "2 2015-08-04       2.10   NaN       NaN      NaN         NaN\n",
       "3 2015-08-06       2.38   NaN       NaN      NaN         NaN\n",
       "4 2015-08-07       2.30   NaN       NaN      NaN         NaN"
      ]
     },
     "execution_count": 14,
     "metadata": {},
     "output_type": "execute_result"
    }
   ],
   "source": [
    "# Visualizando\n",
    "df.head()"
   ]
  },
  {
   "cell_type": "code",
   "execution_count": 15,
   "id": "7a3b3a12",
   "metadata": {},
   "outputs": [
    {
     "data": {
      "text/plain": [
       "Timestamp('2015-08-02 00:00:00')"
      ]
     },
     "execution_count": 15,
     "metadata": {},
     "output_type": "execute_result"
    }
   ],
   "source": [
    "# Extrair a data da primeira linha do DataFrame\n",
    "data_indice_zero = df.iloc[0]['Data']\n",
    "data_indice_zero"
   ]
  },
  {
   "cell_type": "code",
   "execution_count": 16,
   "id": "cc5ad87d",
   "metadata": {},
   "outputs": [
    {
     "data": {
      "text/plain": [
       "'Sunday'"
      ]
     },
     "execution_count": 16,
     "metadata": {},
     "output_type": "execute_result"
    }
   ],
   "source": [
    "# Verificando o dia da semana\n",
    "dia_da_semana = data_indice_zero.strftime('%A')\n",
    "dia_da_semana"
   ]
  },
  {
   "cell_type": "markdown",
   "id": "01aafada",
   "metadata": {},
   "source": [
    "* Resposta -> Domingo"
   ]
  },
  {
   "cell_type": "markdown",
   "id": "85fce1e1",
   "metadata": {},
   "source": [
    "### 5 - Qual o dia da semana nos índices nas 5 primeiras posições?"
   ]
  },
  {
   "cell_type": "code",
   "execution_count": 17,
   "id": "0f94321c",
   "metadata": {},
   "outputs": [],
   "source": [
    "data_indice_zero = df.iloc[0]['Data']\n",
    "data_indice_um = df.iloc[1]['Data']\n",
    "data_indice_dois = df.iloc[2]['Data']\n",
    "data_indice_tres = df.iloc[3]['Data']\n",
    "data_indice_quatro = df.iloc[4]['Data']"
   ]
  },
  {
   "cell_type": "code",
   "execution_count": 18,
   "id": "985cb9d8",
   "metadata": {},
   "outputs": [
    {
     "name": "stdout",
     "output_type": "stream",
     "text": [
      "O dia da semana no índice de posição 1 é: Sunday\n",
      "O dia da semana no índice de posição 2 é: Monday\n",
      "O dia da semana no índice de posição 3 é: Tuesday\n",
      "O dia da semana no índice de posição 4 é: Thursday\n",
      "O dia da semana no índice de posição 5 é: Friday\n"
     ]
    }
   ],
   "source": [
    "# Verificando o dia da semana\n",
    "\n",
    "dia_da_semana_indice_zero = data_indice_zero.strftime('%A')\n",
    "print(\"O dia da semana no índice de posição 1 é:\", dia_da_semana_indice_zero)\n",
    "\n",
    "dia_da_semana_indice_um = data_indice_um.strftime('%A')\n",
    "print(\"O dia da semana no índice de posição 2 é:\", dia_da_semana_indice_um)\n",
    "\n",
    "dia_da_semana_indice_dois = data_indice_dois.strftime('%A')\n",
    "print(\"O dia da semana no índice de posição 3 é:\", dia_da_semana_indice_dois)\n",
    "\n",
    "dia_da_semana_indice_tres = data_indice_tres.strftime('%A')\n",
    "print(\"O dia da semana no índice de posição 4 é:\", dia_da_semana_indice_tres)\n",
    "\n",
    "dia_da_semana_indice_quatro = data_indice_quatro.strftime('%A')\n",
    "print(\"O dia da semana no índice de posição 5 é:\", dia_da_semana_indice_quatro)"
   ]
  },
  {
   "cell_type": "code",
   "execution_count": 19,
   "id": "aaf0bfc2",
   "metadata": {},
   "outputs": [
    {
     "name": "stdout",
     "output_type": "stream",
     "text": [
      "O dia da semana no índice de posição 1 é: Sunday\n",
      "O dia da semana no índice de posição 2 é: Monday\n",
      "O dia da semana no índice de posição 3 é: Tuesday\n",
      "O dia da semana no índice de posição 4 é: Thursday\n",
      "O dia da semana no índice de posição 5 é: Friday\n"
     ]
    }
   ],
   "source": [
    "# Mesma coisa com loop\n",
    "for i in range(5):\n",
    "    data_indice = df.iloc[i]['Data']\n",
    "    dia_da_semana = data_indice.strftime('%A')\n",
    "    print(f\"O dia da semana no índice de posição {i+1} é: {dia_da_semana}\")"
   ]
  },
  {
   "cell_type": "markdown",
   "id": "44d8321b",
   "metadata": {},
   "source": [
    "* Resposta -> Domingo, Segundo, Terça, Quinta e Sexta"
   ]
  },
  {
   "cell_type": "markdown",
   "id": "f6ddeb04",
   "metadata": {},
   "source": [
    "### 6 - Extraia todos os dias da semana (em formato texto) e insira em uma nova coluna no dataframe df."
   ]
  },
  {
   "cell_type": "code",
   "execution_count": 20,
   "id": "86eb7dd8",
   "metadata": {},
   "outputs": [
    {
     "data": {
      "text/plain": [
       "81"
      ]
     },
     "execution_count": 20,
     "metadata": {},
     "output_type": "execute_result"
    }
   ],
   "source": [
    "num_linhas = df.shape[0]\n",
    "num_linhas"
   ]
  },
  {
   "cell_type": "code",
   "execution_count": 21,
   "id": "bc0198df",
   "metadata": {},
   "outputs": [],
   "source": [
    "# Loop\n",
    "for i in range(num_linhas):\n",
    "    data_indice = df.iloc[i]['Data']\n",
    "    dia_da_semana = data_indice.strftime('%A')\n",
    "    df.loc[i, 'Dias_Da_Semana'] = dia_da_semana"
   ]
  },
  {
   "cell_type": "code",
   "execution_count": 22,
   "id": "0379f27b",
   "metadata": {},
   "outputs": [
    {
     "data": {
      "text/html": [
       "<div>\n",
       "<style scoped>\n",
       "    .dataframe tbody tr th:only-of-type {\n",
       "        vertical-align: middle;\n",
       "    }\n",
       "\n",
       "    .dataframe tbody tr th {\n",
       "        vertical-align: top;\n",
       "    }\n",
       "\n",
       "    .dataframe thead th {\n",
       "        text-align: right;\n",
       "    }\n",
       "</style>\n",
       "<table border=\"1\" class=\"dataframe\">\n",
       "  <thead>\n",
       "    <tr style=\"text-align: right;\">\n",
       "      <th></th>\n",
       "      <th>Data</th>\n",
       "      <th>Distancia</th>\n",
       "      <th>Tempo</th>\n",
       "      <th>Segundos</th>\n",
       "      <th>Minutos</th>\n",
       "      <th>Min_Por_Km</th>\n",
       "      <th>Dias_Da_Semana</th>\n",
       "    </tr>\n",
       "  </thead>\n",
       "  <tbody>\n",
       "    <tr>\n",
       "      <th>0</th>\n",
       "      <td>2015-08-02</td>\n",
       "      <td>1.70</td>\n",
       "      <td>NaN</td>\n",
       "      <td>NaN</td>\n",
       "      <td>NaN</td>\n",
       "      <td>NaN</td>\n",
       "      <td>Sunday</td>\n",
       "    </tr>\n",
       "    <tr>\n",
       "      <th>1</th>\n",
       "      <td>2015-08-03</td>\n",
       "      <td>1.40</td>\n",
       "      <td>NaN</td>\n",
       "      <td>NaN</td>\n",
       "      <td>NaN</td>\n",
       "      <td>NaN</td>\n",
       "      <td>Monday</td>\n",
       "    </tr>\n",
       "    <tr>\n",
       "      <th>2</th>\n",
       "      <td>2015-08-04</td>\n",
       "      <td>2.10</td>\n",
       "      <td>NaN</td>\n",
       "      <td>NaN</td>\n",
       "      <td>NaN</td>\n",
       "      <td>NaN</td>\n",
       "      <td>Tuesday</td>\n",
       "    </tr>\n",
       "    <tr>\n",
       "      <th>3</th>\n",
       "      <td>2015-08-06</td>\n",
       "      <td>2.38</td>\n",
       "      <td>NaN</td>\n",
       "      <td>NaN</td>\n",
       "      <td>NaN</td>\n",
       "      <td>NaN</td>\n",
       "      <td>Thursday</td>\n",
       "    </tr>\n",
       "    <tr>\n",
       "      <th>4</th>\n",
       "      <td>2015-08-07</td>\n",
       "      <td>2.30</td>\n",
       "      <td>NaN</td>\n",
       "      <td>NaN</td>\n",
       "      <td>NaN</td>\n",
       "      <td>NaN</td>\n",
       "      <td>Friday</td>\n",
       "    </tr>\n",
       "    <tr>\n",
       "      <th>...</th>\n",
       "      <td>...</td>\n",
       "      <td>...</td>\n",
       "      <td>...</td>\n",
       "      <td>...</td>\n",
       "      <td>...</td>\n",
       "      <td>...</td>\n",
       "      <td>...</td>\n",
       "    </tr>\n",
       "    <tr>\n",
       "      <th>76</th>\n",
       "      <td>2015-12-24</td>\n",
       "      <td>3.05</td>\n",
       "      <td>0:25:08</td>\n",
       "      <td>1508.0</td>\n",
       "      <td>25.133333</td>\n",
       "      <td>8.240437</td>\n",
       "      <td>Thursday</td>\n",
       "    </tr>\n",
       "    <tr>\n",
       "      <th>77</th>\n",
       "      <td>2015-12-25</td>\n",
       "      <td>14.80</td>\n",
       "      <td>2:20:00</td>\n",
       "      <td>8400.0</td>\n",
       "      <td>140.000000</td>\n",
       "      <td>9.459459</td>\n",
       "      <td>Friday</td>\n",
       "    </tr>\n",
       "    <tr>\n",
       "      <th>78</th>\n",
       "      <td>2015-12-26</td>\n",
       "      <td>5.20</td>\n",
       "      <td>NaN</td>\n",
       "      <td>NaN</td>\n",
       "      <td>NaN</td>\n",
       "      <td>NaN</td>\n",
       "      <td>Saturday</td>\n",
       "    </tr>\n",
       "    <tr>\n",
       "      <th>79</th>\n",
       "      <td>2015-12-30</td>\n",
       "      <td>3.15</td>\n",
       "      <td>0:22:10</td>\n",
       "      <td>1330.0</td>\n",
       "      <td>22.166667</td>\n",
       "      <td>7.037037</td>\n",
       "      <td>Wednesday</td>\n",
       "    </tr>\n",
       "    <tr>\n",
       "      <th>80</th>\n",
       "      <td>2016-01-01</td>\n",
       "      <td>26.20</td>\n",
       "      <td>4:20:43</td>\n",
       "      <td>15643.0</td>\n",
       "      <td>260.716667</td>\n",
       "      <td>9.951018</td>\n",
       "      <td>Friday</td>\n",
       "    </tr>\n",
       "  </tbody>\n",
       "</table>\n",
       "<p>81 rows × 7 columns</p>\n",
       "</div>"
      ],
      "text/plain": [
       "         Data  Distancia    Tempo  Segundos     Minutos  Min_Por_Km  \\\n",
       "0  2015-08-02       1.70      NaN       NaN         NaN         NaN   \n",
       "1  2015-08-03       1.40      NaN       NaN         NaN         NaN   \n",
       "2  2015-08-04       2.10      NaN       NaN         NaN         NaN   \n",
       "3  2015-08-06       2.38      NaN       NaN         NaN         NaN   \n",
       "4  2015-08-07       2.30      NaN       NaN         NaN         NaN   \n",
       "..        ...        ...      ...       ...         ...         ...   \n",
       "76 2015-12-24       3.05  0:25:08    1508.0   25.133333    8.240437   \n",
       "77 2015-12-25      14.80  2:20:00    8400.0  140.000000    9.459459   \n",
       "78 2015-12-26       5.20      NaN       NaN         NaN         NaN   \n",
       "79 2015-12-30       3.15  0:22:10    1330.0   22.166667    7.037037   \n",
       "80 2016-01-01      26.20  4:20:43   15643.0  260.716667    9.951018   \n",
       "\n",
       "   Dias_Da_Semana  \n",
       "0          Sunday  \n",
       "1          Monday  \n",
       "2         Tuesday  \n",
       "3        Thursday  \n",
       "4          Friday  \n",
       "..            ...  \n",
       "76       Thursday  \n",
       "77         Friday  \n",
       "78       Saturday  \n",
       "79      Wednesday  \n",
       "80         Friday  \n",
       "\n",
       "[81 rows x 7 columns]"
      ]
     },
     "execution_count": 22,
     "metadata": {},
     "output_type": "execute_result"
    }
   ],
   "source": [
    "df"
   ]
  },
  {
   "cell_type": "markdown",
   "id": "2ff87d99",
   "metadata": {},
   "source": [
    "## <br><u><font color='red'>GABARITO</font></u>"
   ]
  },
  {
   "cell_type": "code",
   "execution_count": null,
   "id": "d738727a",
   "metadata": {},
   "outputs": [],
   "source": [
    "# df['Dia_Semana'] = df.Data.map(lambda x: x.strftime(\"%A\"))"
   ]
  },
  {
   "cell_type": "markdown",
   "id": "cbf60f78",
   "metadata": {},
   "source": [
    "### 7 - Crie um gráfico de barras com o total da distância percorrida em cada dia da semana."
   ]
  },
  {
   "cell_type": "code",
   "execution_count": 23,
   "id": "0bda8afe",
   "metadata": {},
   "outputs": [
    {
     "data": {
      "text/html": [
       "<div>\n",
       "<style scoped>\n",
       "    .dataframe tbody tr th:only-of-type {\n",
       "        vertical-align: middle;\n",
       "    }\n",
       "\n",
       "    .dataframe tbody tr th {\n",
       "        vertical-align: top;\n",
       "    }\n",
       "\n",
       "    .dataframe thead th {\n",
       "        text-align: right;\n",
       "    }\n",
       "</style>\n",
       "<table border=\"1\" class=\"dataframe\">\n",
       "  <thead>\n",
       "    <tr style=\"text-align: right;\">\n",
       "      <th></th>\n",
       "      <th>Dias_Da_Semana</th>\n",
       "      <th>Distancia</th>\n",
       "    </tr>\n",
       "  </thead>\n",
       "  <tbody>\n",
       "    <tr>\n",
       "      <th>0</th>\n",
       "      <td>Friday</td>\n",
       "      <td>50.52</td>\n",
       "    </tr>\n",
       "    <tr>\n",
       "      <th>1</th>\n",
       "      <td>Monday</td>\n",
       "      <td>26.65</td>\n",
       "    </tr>\n",
       "    <tr>\n",
       "      <th>2</th>\n",
       "      <td>Saturday</td>\n",
       "      <td>41.79</td>\n",
       "    </tr>\n",
       "    <tr>\n",
       "      <th>3</th>\n",
       "      <td>Sunday</td>\n",
       "      <td>45.45</td>\n",
       "    </tr>\n",
       "    <tr>\n",
       "      <th>4</th>\n",
       "      <td>Thursday</td>\n",
       "      <td>26.52</td>\n",
       "    </tr>\n",
       "    <tr>\n",
       "      <th>5</th>\n",
       "      <td>Tuesday</td>\n",
       "      <td>36.50</td>\n",
       "    </tr>\n",
       "    <tr>\n",
       "      <th>6</th>\n",
       "      <td>Wednesday</td>\n",
       "      <td>26.71</td>\n",
       "    </tr>\n",
       "  </tbody>\n",
       "</table>\n",
       "</div>"
      ],
      "text/plain": [
       "  Dias_Da_Semana  Distancia\n",
       "0         Friday      50.52\n",
       "1         Monday      26.65\n",
       "2       Saturday      41.79\n",
       "3         Sunday      45.45\n",
       "4       Thursday      26.52\n",
       "5        Tuesday      36.50\n",
       "6      Wednesday      26.71"
      ]
     },
     "execution_count": 23,
     "metadata": {},
     "output_type": "execute_result"
    }
   ],
   "source": [
    "# Calcular Distância Percorrida Por Cada Dia da Semana\n",
    "df_group = df.groupby(['Dias_Da_Semana']).agg({'Distancia' : 'sum'}).reset_index()\n",
    "df_group"
   ]
  },
  {
   "cell_type": "code",
   "execution_count": 24,
   "id": "bfaaf0c9",
   "metadata": {},
   "outputs": [
    {
     "data": {
      "image/png": "[encoded data removed]",
      "text/plain": [
       "<Figure size 1080x720 with 1 Axes>"
      ]
     },
     "metadata": {
      "needs_background": "light"
     },
     "output_type": "display_data"
    }
   ],
   "source": [
    "# Gráfico de Barras (cru)\n",
    "plt.figure(figsize = (15,10));\n",
    "plt.bar(df_group['Dias_Da_Semana'], df_group['Distancia']);"
   ]
  },
  {
   "cell_type": "code",
   "execution_count": 25,
   "id": "a6dcaf92",
   "metadata": {},
   "outputs": [
    {
     "name": "stderr",
     "output_type": "stream",
     "text": [
      "/tmp/ipykernel_134505/1192663835.py:3: FutureWarning: \n",
      "\n",
      "Passing `palette` without assigning `hue` is deprecated and will be removed in v0.14.0. Assign the `x` variable to `hue` and set `legend=False` for the same effect.\n",
      "\n",
      "  chart = sns.barplot(data=df_group, x='Dias_Da_Semana', y='Distancia', palette=\"prism\")\n"
     ]
    },
    {
     "data": {
      "image/png": "[encoded data removed]",
      "text/plain": [
       "<Figure size 1080x720 with 1 Axes>"
      ]
     },
     "metadata": {
      "needs_background": "light"
     },
     "output_type": "display_data"
    }
   ],
   "source": [
    "# Gráfico 2 - Usando Seanborb\n",
    "plt.figure(figsize = (15,10))\n",
    "chart = sns.barplot(data=df_group, x='Dias_Da_Semana', y='Distancia', palette=\"prism\")\n",
    "\n",
    "# Ajustando detalhes do gráfico\n",
    "plt.title(\"Total de Distância Percorrida por Dia da Semana\")\n",
    "plt.xlabel(\"Dia da Semana\")\n",
    "plt.ylabel(\"Total de Distância Percorrida\")\n",
    "plt.xticks(rotation=45)\n",
    "plt.grid(axis='y')"
   ]
  },
  {
   "cell_type": "markdown",
   "id": "349f0f58",
   "metadata": {},
   "source": [
    "## <br><u><font color='red'>GABARITO</font></u>"
   ]
  },
  {
   "cell_type": "code",
   "execution_count": 42,
   "id": "10f0cce2",
   "metadata": {},
   "outputs": [
    {
     "data": {
      "text/plain": [
       "<Axes: xlabel='Dias_Da_Semana'>"
      ]
     },
     "execution_count": 42,
     "metadata": {},
     "output_type": "execute_result"
    },
    {
     "data": {
      "image/png": "[encoded data removed]",
      "text/plain": [
       "<Figure size 432x288 with 1 Axes>"
      ]
     },
     "metadata": {
      "needs_background": "light"
     },
     "output_type": "display_data"
    }
   ],
   "source": [
    "df[['Distancia', 'Dias_Da_Semana']].groupby('Dias_Da_Semana').sum().plot(kind = 'bar')"
   ]
  },
  {
   "cell_type": "markdown",
   "id": "0b0042b5",
   "metadata": {},
   "source": [
    "### <br>8 - Delete a coluna Tempo do dataframe df."
   ]
  },
  {
   "cell_type": "code",
   "execution_count": 26,
   "id": "a5428f85",
   "metadata": {},
   "outputs": [
    {
     "data": {
      "text/html": [
       "<div>\n",
       "<style scoped>\n",
       "    .dataframe tbody tr th:only-of-type {\n",
       "        vertical-align: middle;\n",
       "    }\n",
       "\n",
       "    .dataframe tbody tr th {\n",
       "        vertical-align: top;\n",
       "    }\n",
       "\n",
       "    .dataframe thead th {\n",
       "        text-align: right;\n",
       "    }\n",
       "</style>\n",
       "<table border=\"1\" class=\"dataframe\">\n",
       "  <thead>\n",
       "    <tr style=\"text-align: right;\">\n",
       "      <th></th>\n",
       "      <th>Data</th>\n",
       "      <th>Distancia</th>\n",
       "      <th>Tempo</th>\n",
       "      <th>Segundos</th>\n",
       "      <th>Minutos</th>\n",
       "      <th>Min_Por_Km</th>\n",
       "      <th>Dias_Da_Semana</th>\n",
       "    </tr>\n",
       "  </thead>\n",
       "  <tbody>\n",
       "    <tr>\n",
       "      <th>0</th>\n",
       "      <td>2015-08-02</td>\n",
       "      <td>1.70</td>\n",
       "      <td>NaN</td>\n",
       "      <td>NaN</td>\n",
       "      <td>NaN</td>\n",
       "      <td>NaN</td>\n",
       "      <td>Sunday</td>\n",
       "    </tr>\n",
       "    <tr>\n",
       "      <th>1</th>\n",
       "      <td>2015-08-03</td>\n",
       "      <td>1.40</td>\n",
       "      <td>NaN</td>\n",
       "      <td>NaN</td>\n",
       "      <td>NaN</td>\n",
       "      <td>NaN</td>\n",
       "      <td>Monday</td>\n",
       "    </tr>\n",
       "    <tr>\n",
       "      <th>2</th>\n",
       "      <td>2015-08-04</td>\n",
       "      <td>2.10</td>\n",
       "      <td>NaN</td>\n",
       "      <td>NaN</td>\n",
       "      <td>NaN</td>\n",
       "      <td>NaN</td>\n",
       "      <td>Tuesday</td>\n",
       "    </tr>\n",
       "    <tr>\n",
       "      <th>3</th>\n",
       "      <td>2015-08-06</td>\n",
       "      <td>2.38</td>\n",
       "      <td>NaN</td>\n",
       "      <td>NaN</td>\n",
       "      <td>NaN</td>\n",
       "      <td>NaN</td>\n",
       "      <td>Thursday</td>\n",
       "    </tr>\n",
       "    <tr>\n",
       "      <th>4</th>\n",
       "      <td>2015-08-07</td>\n",
       "      <td>2.30</td>\n",
       "      <td>NaN</td>\n",
       "      <td>NaN</td>\n",
       "      <td>NaN</td>\n",
       "      <td>NaN</td>\n",
       "      <td>Friday</td>\n",
       "    </tr>\n",
       "    <tr>\n",
       "      <th>...</th>\n",
       "      <td>...</td>\n",
       "      <td>...</td>\n",
       "      <td>...</td>\n",
       "      <td>...</td>\n",
       "      <td>...</td>\n",
       "      <td>...</td>\n",
       "      <td>...</td>\n",
       "    </tr>\n",
       "    <tr>\n",
       "      <th>76</th>\n",
       "      <td>2015-12-24</td>\n",
       "      <td>3.05</td>\n",
       "      <td>0:25:08</td>\n",
       "      <td>1508.0</td>\n",
       "      <td>25.133333</td>\n",
       "      <td>8.240437</td>\n",
       "      <td>Thursday</td>\n",
       "    </tr>\n",
       "    <tr>\n",
       "      <th>77</th>\n",
       "      <td>2015-12-25</td>\n",
       "      <td>14.80</td>\n",
       "      <td>2:20:00</td>\n",
       "      <td>8400.0</td>\n",
       "      <td>140.000000</td>\n",
       "      <td>9.459459</td>\n",
       "      <td>Friday</td>\n",
       "    </tr>\n",
       "    <tr>\n",
       "      <th>78</th>\n",
       "      <td>2015-12-26</td>\n",
       "      <td>5.20</td>\n",
       "      <td>NaN</td>\n",
       "      <td>NaN</td>\n",
       "      <td>NaN</td>\n",
       "      <td>NaN</td>\n",
       "      <td>Saturday</td>\n",
       "    </tr>\n",
       "    <tr>\n",
       "      <th>79</th>\n",
       "      <td>2015-12-30</td>\n",
       "      <td>3.15</td>\n",
       "      <td>0:22:10</td>\n",
       "      <td>1330.0</td>\n",
       "      <td>22.166667</td>\n",
       "      <td>7.037037</td>\n",
       "      <td>Wednesday</td>\n",
       "    </tr>\n",
       "    <tr>\n",
       "      <th>80</th>\n",
       "      <td>2016-01-01</td>\n",
       "      <td>26.20</td>\n",
       "      <td>4:20:43</td>\n",
       "      <td>15643.0</td>\n",
       "      <td>260.716667</td>\n",
       "      <td>9.951018</td>\n",
       "      <td>Friday</td>\n",
       "    </tr>\n",
       "  </tbody>\n",
       "</table>\n",
       "<p>81 rows × 7 columns</p>\n",
       "</div>"
      ],
      "text/plain": [
       "         Data  Distancia    Tempo  Segundos     Minutos  Min_Por_Km  \\\n",
       "0  2015-08-02       1.70      NaN       NaN         NaN         NaN   \n",
       "1  2015-08-03       1.40      NaN       NaN         NaN         NaN   \n",
       "2  2015-08-04       2.10      NaN       NaN         NaN         NaN   \n",
       "3  2015-08-06       2.38      NaN       NaN         NaN         NaN   \n",
       "4  2015-08-07       2.30      NaN       NaN         NaN         NaN   \n",
       "..        ...        ...      ...       ...         ...         ...   \n",
       "76 2015-12-24       3.05  0:25:08    1508.0   25.133333    8.240437   \n",
       "77 2015-12-25      14.80  2:20:00    8400.0  140.000000    9.459459   \n",
       "78 2015-12-26       5.20      NaN       NaN         NaN         NaN   \n",
       "79 2015-12-30       3.15  0:22:10    1330.0   22.166667    7.037037   \n",
       "80 2016-01-01      26.20  4:20:43   15643.0  260.716667    9.951018   \n",
       "\n",
       "   Dias_Da_Semana  \n",
       "0          Sunday  \n",
       "1          Monday  \n",
       "2         Tuesday  \n",
       "3        Thursday  \n",
       "4          Friday  \n",
       "..            ...  \n",
       "76       Thursday  \n",
       "77         Friday  \n",
       "78       Saturday  \n",
       "79      Wednesday  \n",
       "80         Friday  \n",
       "\n",
       "[81 rows x 7 columns]"
      ]
     },
     "execution_count": 26,
     "metadata": {},
     "output_type": "execute_result"
    }
   ],
   "source": [
    "df2 = df.copy()\n",
    "df2"
   ]
  },
  {
   "cell_type": "code",
   "execution_count": 27,
   "id": "5b08fd84",
   "metadata": {},
   "outputs": [],
   "source": [
    "del df2['Tempo']"
   ]
  },
  {
   "cell_type": "code",
   "execution_count": 29,
   "id": "5416a3f0",
   "metadata": {},
   "outputs": [
    {
     "data": {
      "text/html": [
       "<div>\n",
       "<style scoped>\n",
       "    .dataframe tbody tr th:only-of-type {\n",
       "        vertical-align: middle;\n",
       "    }\n",
       "\n",
       "    .dataframe tbody tr th {\n",
       "        vertical-align: top;\n",
       "    }\n",
       "\n",
       "    .dataframe thead th {\n",
       "        text-align: right;\n",
       "    }\n",
       "</style>\n",
       "<table border=\"1\" class=\"dataframe\">\n",
       "  <thead>\n",
       "    <tr style=\"text-align: right;\">\n",
       "      <th></th>\n",
       "      <th>Data</th>\n",
       "      <th>Distancia</th>\n",
       "      <th>Segundos</th>\n",
       "      <th>Minutos</th>\n",
       "      <th>Min_Por_Km</th>\n",
       "      <th>Dias_Da_Semana</th>\n",
       "    </tr>\n",
       "  </thead>\n",
       "  <tbody>\n",
       "    <tr>\n",
       "      <th>0</th>\n",
       "      <td>2015-08-02</td>\n",
       "      <td>1.70</td>\n",
       "      <td>NaN</td>\n",
       "      <td>NaN</td>\n",
       "      <td>NaN</td>\n",
       "      <td>Sunday</td>\n",
       "    </tr>\n",
       "    <tr>\n",
       "      <th>1</th>\n",
       "      <td>2015-08-03</td>\n",
       "      <td>1.40</td>\n",
       "      <td>NaN</td>\n",
       "      <td>NaN</td>\n",
       "      <td>NaN</td>\n",
       "      <td>Monday</td>\n",
       "    </tr>\n",
       "    <tr>\n",
       "      <th>2</th>\n",
       "      <td>2015-08-04</td>\n",
       "      <td>2.10</td>\n",
       "      <td>NaN</td>\n",
       "      <td>NaN</td>\n",
       "      <td>NaN</td>\n",
       "      <td>Tuesday</td>\n",
       "    </tr>\n",
       "    <tr>\n",
       "      <th>3</th>\n",
       "      <td>2015-08-06</td>\n",
       "      <td>2.38</td>\n",
       "      <td>NaN</td>\n",
       "      <td>NaN</td>\n",
       "      <td>NaN</td>\n",
       "      <td>Thursday</td>\n",
       "    </tr>\n",
       "    <tr>\n",
       "      <th>4</th>\n",
       "      <td>2015-08-07</td>\n",
       "      <td>2.30</td>\n",
       "      <td>NaN</td>\n",
       "      <td>NaN</td>\n",
       "      <td>NaN</td>\n",
       "      <td>Friday</td>\n",
       "    </tr>\n",
       "    <tr>\n",
       "      <th>...</th>\n",
       "      <td>...</td>\n",
       "      <td>...</td>\n",
       "      <td>...</td>\n",
       "      <td>...</td>\n",
       "      <td>...</td>\n",
       "      <td>...</td>\n",
       "    </tr>\n",
       "    <tr>\n",
       "      <th>76</th>\n",
       "      <td>2015-12-24</td>\n",
       "      <td>3.05</td>\n",
       "      <td>1508.0</td>\n",
       "      <td>25.133333</td>\n",
       "      <td>8.240437</td>\n",
       "      <td>Thursday</td>\n",
       "    </tr>\n",
       "    <tr>\n",
       "      <th>77</th>\n",
       "      <td>2015-12-25</td>\n",
       "      <td>14.80</td>\n",
       "      <td>8400.0</td>\n",
       "      <td>140.000000</td>\n",
       "      <td>9.459459</td>\n",
       "      <td>Friday</td>\n",
       "    </tr>\n",
       "    <tr>\n",
       "      <th>78</th>\n",
       "      <td>2015-12-26</td>\n",
       "      <td>5.20</td>\n",
       "      <td>NaN</td>\n",
       "      <td>NaN</td>\n",
       "      <td>NaN</td>\n",
       "      <td>Saturday</td>\n",
       "    </tr>\n",
       "    <tr>\n",
       "      <th>79</th>\n",
       "      <td>2015-12-30</td>\n",
       "      <td>3.15</td>\n",
       "      <td>1330.0</td>\n",
       "      <td>22.166667</td>\n",
       "      <td>7.037037</td>\n",
       "      <td>Wednesday</td>\n",
       "    </tr>\n",
       "    <tr>\n",
       "      <th>80</th>\n",
       "      <td>2016-01-01</td>\n",
       "      <td>26.20</td>\n",
       "      <td>15643.0</td>\n",
       "      <td>260.716667</td>\n",
       "      <td>9.951018</td>\n",
       "      <td>Friday</td>\n",
       "    </tr>\n",
       "  </tbody>\n",
       "</table>\n",
       "<p>81 rows × 6 columns</p>\n",
       "</div>"
      ],
      "text/plain": [
       "         Data  Distancia  Segundos     Minutos  Min_Por_Km Dias_Da_Semana\n",
       "0  2015-08-02       1.70       NaN         NaN         NaN         Sunday\n",
       "1  2015-08-03       1.40       NaN         NaN         NaN         Monday\n",
       "2  2015-08-04       2.10       NaN         NaN         NaN        Tuesday\n",
       "3  2015-08-06       2.38       NaN         NaN         NaN       Thursday\n",
       "4  2015-08-07       2.30       NaN         NaN         NaN         Friday\n",
       "..        ...        ...       ...         ...         ...            ...\n",
       "76 2015-12-24       3.05    1508.0   25.133333    8.240437       Thursday\n",
       "77 2015-12-25      14.80    8400.0  140.000000    9.459459         Friday\n",
       "78 2015-12-26       5.20       NaN         NaN         NaN       Saturday\n",
       "79 2015-12-30       3.15    1330.0   22.166667    7.037037      Wednesday\n",
       "80 2016-01-01      26.20   15643.0  260.716667    9.951018         Friday\n",
       "\n",
       "[81 rows x 6 columns]"
      ]
     },
     "execution_count": 29,
     "metadata": {},
     "output_type": "execute_result"
    }
   ],
   "source": [
    "df2"
   ]
  },
  {
   "cell_type": "markdown",
   "id": "179a9d7a",
   "metadata": {},
   "source": [
    "### 9 - Qual o total de corridas de taxi por dia da semana?"
   ]
  },
  {
   "cell_type": "code",
   "execution_count": 52,
   "id": "b772fe9d",
   "metadata": {},
   "outputs": [
    {
     "data": {
      "text/plain": [
       "Dias_Da_Semana\n",
       "Friday        8\n",
       "Monday       11\n",
       "Saturday     15\n",
       "Sunday       14\n",
       "Thursday      8\n",
       "Tuesday      14\n",
       "Wednesday    11\n",
       "dtype: int64"
      ]
     },
     "execution_count": 52,
     "metadata": {},
     "output_type": "execute_result"
    }
   ],
   "source": [
    "df['Distancia'] = df.Distancia[df.Distancia > 0]\n",
    "dias = df.groupby('Dias_Da_Semana')\n",
    "dias.size()"
   ]
  },
  {
   "cell_type": "markdown",
   "id": "f09d9c63",
   "metadata": {},
   "source": [
    "### 10 - Qual a média para cada uma das colunas por dia da semana?"
   ]
  },
  {
   "cell_type": "code",
   "execution_count": 54,
   "id": "2b63a43f",
   "metadata": {},
   "outputs": [
    {
     "name": "stdout",
     "output_type": "stream",
     "text": [
      "<class 'pandas.core.frame.DataFrame'>\n",
      "RangeIndex: 81 entries, 0 to 80\n",
      "Data columns (total 7 columns):\n",
      " #   Column          Non-Null Count  Dtype         \n",
      "---  ------          --------------  -----         \n",
      " 0   Data            81 non-null     datetime64[ns]\n",
      " 1   Distancia       81 non-null     float64       \n",
      " 2   Tempo           52 non-null     object        \n",
      " 3   Segundos        52 non-null     float64       \n",
      " 4   Minutos         52 non-null     float64       \n",
      " 5   Min_Por_Km      52 non-null     float64       \n",
      " 6   Dias_Da_Semana  81 non-null     object        \n",
      "dtypes: datetime64[ns](1), float64(4), object(2)\n",
      "memory usage: 4.6+ KB\n"
     ]
    }
   ],
   "source": [
    "# Verificando Tipo de cada uma das Variáveis\n",
    "df.info()"
   ]
  },
  {
   "cell_type": "code",
   "execution_count": 55,
   "id": "88a578eb",
   "metadata": {},
   "outputs": [],
   "source": [
    "# Separando variáveis Numéricas\n",
    "nums = ['Distancia', \n",
    "        'Segundos', \n",
    "        'Minutos', \n",
    "        'Min_Por_Km']"
   ]
  },
  {
   "cell_type": "code",
   "execution_count": 56,
   "id": "bf14e8a9",
   "metadata": {},
   "outputs": [
    {
     "data": {
      "text/html": [
       "<div>\n",
       "<style scoped>\n",
       "    .dataframe tbody tr th:only-of-type {\n",
       "        vertical-align: middle;\n",
       "    }\n",
       "\n",
       "    .dataframe tbody tr th {\n",
       "        vertical-align: top;\n",
       "    }\n",
       "\n",
       "    .dataframe thead th {\n",
       "        text-align: right;\n",
       "    }\n",
       "</style>\n",
       "<table border=\"1\" class=\"dataframe\">\n",
       "  <thead>\n",
       "    <tr style=\"text-align: right;\">\n",
       "      <th></th>\n",
       "      <th>Distancia</th>\n",
       "      <th>Segundos</th>\n",
       "      <th>Minutos</th>\n",
       "      <th>Min_Por_Km</th>\n",
       "    </tr>\n",
       "    <tr>\n",
       "      <th>Dias_Da_Semana</th>\n",
       "      <th></th>\n",
       "      <th></th>\n",
       "      <th></th>\n",
       "      <th></th>\n",
       "    </tr>\n",
       "  </thead>\n",
       "  <tbody>\n",
       "    <tr>\n",
       "      <th>Friday</th>\n",
       "      <td>6.315000</td>\n",
       "      <td>5071.800000</td>\n",
       "      <td>84.530000</td>\n",
       "      <td>8.039543</td>\n",
       "    </tr>\n",
       "    <tr>\n",
       "      <th>Monday</th>\n",
       "      <td>2.422727</td>\n",
       "      <td>1185.750000</td>\n",
       "      <td>19.762500</td>\n",
       "      <td>7.463840</td>\n",
       "    </tr>\n",
       "    <tr>\n",
       "      <th>Saturday</th>\n",
       "      <td>2.786000</td>\n",
       "      <td>1458.500000</td>\n",
       "      <td>24.308333</td>\n",
       "      <td>7.747657</td>\n",
       "    </tr>\n",
       "    <tr>\n",
       "      <th>Sunday</th>\n",
       "      <td>3.246429</td>\n",
       "      <td>2802.500000</td>\n",
       "      <td>46.708333</td>\n",
       "      <td>8.184961</td>\n",
       "    </tr>\n",
       "    <tr>\n",
       "      <th>Thursday</th>\n",
       "      <td>3.315000</td>\n",
       "      <td>1681.285714</td>\n",
       "      <td>28.021429</td>\n",
       "      <td>7.829348</td>\n",
       "    </tr>\n",
       "    <tr>\n",
       "      <th>Tuesday</th>\n",
       "      <td>2.607143</td>\n",
       "      <td>1334.600000</td>\n",
       "      <td>22.243333</td>\n",
       "      <td>7.463291</td>\n",
       "    </tr>\n",
       "    <tr>\n",
       "      <th>Wednesday</th>\n",
       "      <td>2.428182</td>\n",
       "      <td>1306.250000</td>\n",
       "      <td>21.770833</td>\n",
       "      <td>7.659706</td>\n",
       "    </tr>\n",
       "  </tbody>\n",
       "</table>\n",
       "</div>"
      ],
      "text/plain": [
       "                Distancia     Segundos    Minutos  Min_Por_Km\n",
       "Dias_Da_Semana                                               \n",
       "Friday           6.315000  5071.800000  84.530000    8.039543\n",
       "Monday           2.422727  1185.750000  19.762500    7.463840\n",
       "Saturday         2.786000  1458.500000  24.308333    7.747657\n",
       "Sunday           3.246429  2802.500000  46.708333    8.184961\n",
       "Thursday         3.315000  1681.285714  28.021429    7.829348\n",
       "Tuesday          2.607143  1334.600000  22.243333    7.463291\n",
       "Wednesday        2.428182  1306.250000  21.770833    7.659706"
      ]
     },
     "execution_count": 56,
     "metadata": {},
     "output_type": "execute_result"
    }
   ],
   "source": [
    "# Verificando a média de cada uma das variáveis\n",
    "dias[nums].mean()"
   ]
  },
  {
   "cell_type": "markdown",
   "id": "ba174d26",
   "metadata": {},
   "source": [
    "# <br>FIM"
   ]
  }
 ],
 "metadata": {
  "kernelspec": {
   "display_name": "Python 3 (ipykernel)",
   "language": "python",
   "name": "python3"
  },
  "language_info": {
   "codemirror_mode": {
    "name": "ipython",
    "version": 3
   },
   "file_extension": ".py",
   "mimetype": "text/x-python",
   "name": "python",
   "nbconvert_exporter": "python",
   "pygments_lexer": "ipython3",
   "version": "3.9.7"
  }
 },
 "nbformat": 4,
 "nbformat_minor": 5
}
